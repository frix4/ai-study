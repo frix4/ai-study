{
  "nbformat": 4,
  "nbformat_minor": 0,
  "metadata": {
    "colab": {
      "name": "Linear Regression-Summary_tf2.ipynb",
      "provenance": [],
      "authorship_tag": "ABX9TyMm/ytMGkvjRAyuxJYhROqW",
      "include_colab_link": true
    },
    "kernelspec": {
      "name": "python3",
      "display_name": "Python 3"
    }
  },
  "cells": [
    {
      "cell_type": "markdown",
      "metadata": {
        "id": "view-in-github",
        "colab_type": "text"
      },
      "source": [
        "<a href=\"https://colab.research.google.com/github/frix4/ai-study/blob/master/Linear_Regression_Summary_tf2.ipynb\" target=\"_parent\"><img src=\"https://colab.research.google.com/assets/colab-badge.svg\" alt=\"Open In Colab\"/></a>"
      ]
    },
    {
      "cell_type": "markdown",
      "metadata": {
        "id": "aHICuFZ7UQAg",
        "colab_type": "text"
      },
      "source": [
        "텐서플로우2를 이용한 선형회귀 코드를 작성하는 예제"
      ]
    },
    {
      "cell_type": "code",
      "metadata": {
        "id": "TV6kfTZMVvJK",
        "colab_type": "code",
        "colab": {}
      },
      "source": [
        "import numpy as np\n",
        "import tensorflow as tf"
      ],
      "execution_count": 0,
      "outputs": []
    },
    {
      "cell_type": "markdown",
      "metadata": {
        "id": "GQDIJKGDat4S",
        "colab_type": "text"
      },
      "source": [
        "텐서플로우1을 사용할 경우 아래 호환 라이브러리 호출 (아래)"
      ]
    },
    {
      "cell_type": "code",
      "metadata": {
        "id": "HSgui_niS6yW",
        "colab_type": "code",
        "colab": {}
      },
      "source": [
        "#import tensorflow.compat.v1 as tf  # tensorflow1 code와 호환되는 라이브러리 호출\n",
        "#tf.disable_v2_behavior() #버전2를 사용하지 않도록 함"
      ],
      "execution_count": 0,
      "outputs": []
    },
    {
      "cell_type": "markdown",
      "metadata": {
        "id": "TOwJwSp0h3ub",
        "colab_type": "text"
      },
      "source": [
        "학습시킬 데이터를 입력 (또는 읽기)"
      ]
    },
    {
      "cell_type": "code",
      "metadata": {
        "id": "jyl0siQAdfn0",
        "colab_type": "code",
        "colab": {}
      },
      "source": [
        "xData = [1, 2, 3, 4, 5, 6, 7]\n",
        "yData = [25000, 55000, 75000, 110000, 128000, 155000, 180000]"
      ],
      "execution_count": 0,
      "outputs": []
    },
    {
      "cell_type": "markdown",
      "metadata": {
        "id": "ZXlUfc1RX4vE",
        "colab_type": "text"
      },
      "source": [
        "아래는 버전1을 기준으로 모델을 만드는 과정\n",
        "1. 파라미터 변수를 설정(가중치와 변이)\n",
        "2. 학습시킬 데이터가 입력될(텐서가 할당될) 변수(위치)를 설정: tensorflow.placeholder(입력변수 형식, 모양, 이름)\n",
        "참조: \n",
        "tf.compat.v1.placeholder(\n",
        "    dtype, shape=None, name=None\n",
        ")\n",
        "3. 모형가설(여기서는 선형회귀식) 설정"
      ]
    },
    {
      "cell_type": "code",
      "metadata": {
        "id": "zft5RCrwXoXH",
        "colab_type": "code",
        "colab": {}
      },
      "source": [
        "#W = tf.Variable(tf.random_uniform([1],-100, 100))\n",
        "#b = tf.Variable(tf.random_uniform([1],-100, 100))\n",
        "#X = tf.placeholder(tf.float32)\n",
        "#Y = tf.placeholder(tf.float32)\n",
        "#H = W*X + b"
      ],
      "execution_count": 0,
      "outputs": []
    },
    {
      "cell_type": "markdown",
      "metadata": {
        "id": "qgkwcgSGaUAY",
        "colab_type": "text"
      },
      "source": [
        "텐서플로우2 인 경우 아래와 같이 모델을 설정\n",
        "1. tensorflow.keras.Sequential() 로 모델을 생성\n",
        "2. 노드가 1개 입력값이 하나인 레이어를 생성  "
      ]
    },
    {
      "cell_type": "code",
      "metadata": {
        "id": "AfRH32XQbT5S",
        "colab_type": "code",
        "colab": {}
      },
      "source": [
        "model = tf.keras.models.Sequential() # tf.keras.Sequential() ?\n",
        "model.add(tf.keras.layers.Dense(1, input_dim=1))"
      ],
      "execution_count": 0,
      "outputs": []
    },
    {
      "cell_type": "markdown",
      "metadata": {
        "id": "tCmjImG5l_q0",
        "colab_type": "text"
      },
      "source": [
        "버전 1일 경우는 아래와 같이 \n",
        "1. 비용함수 Cost function 지정 여기서는 mean square error\n",
        "2.  최적화 방식을 결정하고 (Gradient Descent)\n",
        "3. 이 두가지를 이용하여 학습하는 것으로 설정 (train =.... 이하)\n",
        "4. 학습을 수행\n",
        " 4.1 session 을 만들어서 3번에서 만든 학습을 실행, \n",
        " 4.2. 5000번을 수행하되, 500번에 한번씩 비용과 가중치, 변이를 표시\n",
        "5. 학습된 가중치 등으로 8번째 예측을 수행"
      ]
    },
    {
      "cell_type": "code",
      "metadata": {
        "id": "RMT7fQmWYZfS",
        "colab_type": "code",
        "colab": {}
      },
      "source": [
        "#cost = tf.reduce_mean(tf.square(H-Y))\n",
        "#a = tf.Variable(0.01)\n",
        "#optimazier = tf.train.GradientDescentOptimizer(a)\n",
        "#train = optimazier.minimize(cost)\n",
        "#init = tf.global_variables_initializer()\n",
        "#sess = tf.Session()\n",
        "#sess.run(init)\n",
        "#for i in range(5001):\n",
        " #   sess.run(train, feed_dict={X: xData, Y: yData})\n",
        " #   if i % 500 == 0:\n",
        " #       print(i, sess.run(cost, feed_dict={X: xData, Y: yData}), sess.run(W), sess.run(b))\n",
        "#print(sess.run(H, feed_dict={X: [8]}))"
      ],
      "execution_count": 0,
      "outputs": []
    },
    {
      "cell_type": "markdown",
      "metadata": {
        "id": "oLHPFrPwcN43",
        "colab_type": "text"
      },
      "source": [
        "버전2 기준으로 작성하면, \n",
        "1. Stochasitic Gradient Descent 최적화 설정\n",
        "tf.keras.optimizers.SGD(\n",
        "    learning_rate=0.01, momentum=0.0, nesterov=False, name='SGD', **kwargs\n",
        ")\n",
        "2. 최소자승법으로 비용함수를 설정하고 모델에 적용\n",
        "compile(\n",
        "    optimizer='rmsprop', loss=None, metrics=None, loss_weights=None,\n",
        "    sample_weight_mode=None, weighted_metrics=None, **kwargs\n",
        ")\n",
        "3. 학습을 수행, 배치 사이즈는 500, 10번 수행\n",
        "fit(\n",
        "    x=None, y=None, batch_size=None, epochs=1, verbose=1, callbacks=None,\n",
        "    validation_split=0.0, validation_data=None, shuffle=True, class_weight=None,\n",
        "    sample_weight=None, initial_epoch=0, steps_per_epoch=None,\n",
        "    validation_steps=None, validation_batch_size=None, validation_freq=1,\n",
        "    max_queue_size=10, workers=1, use_multiprocessing=False\n",
        ")\n",
        "\n",
        "fit함수는 \n",
        "https://www.tensorflow.org/api_docs/python/tf/keras/Sequential#fit 참조"
      ]
    },
    {
      "cell_type": "code",
      "metadata": {
        "id": "c4Y6O6zHee-9",
        "colab_type": "code",
        "outputId": "33fc2052-752e-4510-d42e-108e36118eb1",
        "colab": {
          "base_uri": "https://localhost:8080/",
          "height": 374
        }
      },
      "source": [
        "sdg = tf.keras.optimizers.SGD(lr=0.01)\n",
        "model.compile(loss='mean_squared_error', optimizer=sdg)\n",
        "model.fit(xData, yData, batch_size=500, epochs=10)\n",
        "\n",
        "print(model.predict(np.array([8])))"
      ],
      "execution_count": 14,
      "outputs": [
        {
          "output_type": "stream",
          "text": [
            "Epoch 1/10\n",
            "1/1 [==============================] - 0s 2ms/step - loss: 13456548864.0000\n",
            "Epoch 2/10\n",
            "1/1 [==============================] - 0s 912us/step - loss: 4594378752.0000\n",
            "Epoch 3/10\n",
            "1/1 [==============================] - 0s 764us/step - loss: 1573476096.0000\n",
            "Epoch 4/10\n",
            "1/1 [==============================] - 0s 1ms/step - loss: 543714176.0000\n",
            "Epoch 5/10\n",
            "1/1 [==============================] - 0s 829us/step - loss: 192681776.0000\n",
            "Epoch 6/10\n",
            "1/1 [==============================] - 0s 741us/step - loss: 73011224.0000\n",
            "Epoch 7/10\n",
            "1/1 [==============================] - 0s 1ms/step - loss: 32205890.0000\n",
            "Epoch 8/10\n",
            "1/1 [==============================] - 0s 1ms/step - loss: 18283910.0000\n",
            "Epoch 9/10\n",
            "1/1 [==============================] - 0s 865us/step - loss: 13525837.0000\n",
            "Epoch 10/10\n",
            "1/1 [==============================] - 0s 837us/step - loss: 11891618.0000\n",
            "[[203496.84]]\n"
          ],
          "name": "stdout"
        }
      ]
    },
    {
      "cell_type": "markdown",
      "metadata": {
        "id": "sOahZdK4UqUR",
        "colab_type": "text"
      },
      "source": [
        ""
      ]
    }
  ]
}