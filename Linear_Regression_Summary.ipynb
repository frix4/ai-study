{
  "nbformat": 4,
  "nbformat_minor": 0,
  "metadata": {
    "colab": {
      "name": "Linear Regression-Summary.ipynb",
      "provenance": [],
      "authorship_tag": "ABX9TyM9EOqI8w6S/wTtXMpj5y/V",
      "include_colab_link": true
    },
    "kernelspec": {
      "name": "python3",
      "display_name": "Python 3"
    }
  },
  "cells": [
    {
      "cell_type": "markdown",
      "metadata": {
        "id": "view-in-github",
        "colab_type": "text"
      },
      "source": [
        "<a href=\"https://colab.research.google.com/github/frix4/ai-study/blob/master/Linear_Regression_Summary.ipynb\" target=\"_parent\"><img src=\"https://colab.research.google.com/assets/colab-badge.svg\" alt=\"Open In Colab\"/></a>"
      ]
    },
    {
      "cell_type": "code",
      "metadata": {
        "id": "TV6kfTZMVvJK",
        "colab_type": "code",
        "colab": {}
      },
      "source": [
        "import tensorflow as tf"
      ],
      "execution_count": 0,
      "outputs": []
    },
    {
      "cell_type": "markdown",
      "metadata": {
        "id": "aHICuFZ7UQAg",
        "colab_type": "text"
      },
      "source": [
        "현재 텐서플로우의 버전이 2 이므로, 코드가 1 기준일 경우 실행되지 않음"
      ]
    },
    {
      "cell_type": "code",
      "metadata": {
        "id": "HSgui_niS6yW",
        "colab_type": "code",
        "outputId": "7d57275a-5a9f-453a-ead6-217701812f6c",
        "colab": {
          "base_uri": "https://localhost:8080/",
          "height": 71
        }
      },
      "source": [
        "import tensorflow.compat.v1 as tf\n",
        "tf.disable_v2_behavior()"
      ],
      "execution_count": 0,
      "outputs": [
        {
          "output_type": "stream",
          "text": [
            "WARNING:tensorflow:From /usr/local/lib/python3.6/dist-packages/tensorflow/python/compat/v2_compat.py:96: disable_resource_variables (from tensorflow.python.ops.variable_scope) is deprecated and will be removed in a future version.\n",
            "Instructions for updating:\n",
            "non-resource variables are not supported in the long term\n"
          ],
          "name": "stdout"
        }
      ]
    },
    {
      "cell_type": "markdown",
      "metadata": {
        "id": "TOwJwSp0h3ub",
        "colab_type": "text"
      },
      "source": [
        "아래 코드가 tensorflow 1 명령어 이므로, tensorflow ver 1 패키지를 사용"
      ]
    },
    {
      "cell_type": "code",
      "metadata": {
        "id": "jyl0siQAdfn0",
        "colab_type": "code",
        "outputId": "11948026-6f4c-4294-e44a-13356bc723fc",
        "colab": {
          "base_uri": "https://localhost:8080/",
          "height": 233
        }
      },
      "source": [
        "xData = [1, 2, 3, 4, 5, 6, 7]\n",
        "yData = [25000, 55000, 75000, 110000, 128000, 155000, 180000]\n",
        "W = tf.Variable(tf.random_uniform([1],-100, 100))\n",
        "b = tf.Variable(tf.random_uniform([1],-100, 100))\n",
        "X = tf.placeholder(tf.float32)\n",
        "Y = tf.placeholder(tf.float32)\n",
        "H = W*X + b\n",
        "cost = tf.reduce_mean(tf.square(H-Y))\n",
        "a = tf.Variable(0.01)\n",
        "optimazier = tf.train.GradientDescentOptimizer(a)\n",
        "train = optimazier.minimize(cost)\n",
        "init = tf.global_variables_initializer()\n",
        "sess = tf.Session()\n",
        "sess.run(init)\n",
        "for i in range(5001):\n",
        "    sess.run(train, feed_dict={X: xData, Y: yData})\n",
        "    if i % 500 == 0:\n",
        "        print(i, sess.run(cost, feed_dict={X: xData, Y: yData}), sess.run(W), sess.run(b))\n",
        "print(sess.run(H, feed_dict={X: [8]}))"
      ],
      "execution_count": 0,
      "outputs": [
        {
          "output_type": "stream",
          "text": [
            "0 4598421000.0 [10370.989] [2043.9944]\n",
            "500 8686329.0 [25538.26] [1946.5333]\n",
            "1000 8633795.0 [25627.613] [1504.0525]\n",
            "1500 8632679.0 [25640.635] [1439.5737]\n",
            "2000 8632654.0 [25642.533] [1430.1746]\n",
            "2500 8632651.0 [25642.807] [1428.8184]\n",
            "3000 8632650.0 [25642.844] [1428.6327]\n",
            "3500 8632657.0 [25642.848] [1428.6133]\n",
            "4000 8632657.0 [25642.848] [1428.6133]\n",
            "4500 8632657.0 [25642.848] [1428.6133]\n",
            "5000 8632657.0 [25642.848] [1428.6133]\n",
            "[206571.39]\n"
          ],
          "name": "stdout"
        }
      ]
    },
    {
      "cell_type": "markdown",
      "metadata": {
        "id": "sOahZdK4UqUR",
        "colab_type": "text"
      },
      "source": [
        ""
      ]
    }
  ]
}